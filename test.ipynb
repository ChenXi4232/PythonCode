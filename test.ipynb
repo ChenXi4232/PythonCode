{
 "cells": [
  {
   "cell_type": "code",
   "execution_count": 13,
   "metadata": {},
   "outputs": [
    {
     "name": "stdout",
     "output_type": "stream",
     "text": [
      "2.947693115648684\n"
     ]
    }
   ],
   "source": [
    "# 以10为底的对数函数\n",
    "import numpy as np\n",
    "\n",
    "N = 811400\n",
    "np.log10(100)\n",
    "tf=int(input())\n",
    "df=40014\n",
    "print((1+np.log10(tf))*np.log10(N/df))"
   ]
  },
  {
   "cell_type": "code",
   "execution_count": 17,
   "metadata": {},
   "outputs": [
    {
     "name": "stdout",
     "output_type": "stream",
     "text": [
      "原始向量: [4.092 0.    2.892 2.763]\n",
      "归一化后的向量: [0.71512351 0.         0.50540987 0.48286565]\n"
     ]
    }
   ],
   "source": [
    "# 将给定三维向量归一化\n",
    "import numpy as np\n",
    "\n",
    "def normalize_vector(vector):\n",
    "    norm = np.linalg.norm(vector)\n",
    "    if norm == 0: \n",
    "        return vector\n",
    "    return vector / norm\n",
    "\n",
    "# 示例向量\n",
    "v = np.array([4.092, 0, 2.892, 2.763])\n",
    "\n",
    "# 归一化向量\n",
    "normalized_v = normalize_vector(v)\n",
    "\n",
    "print(\"原始向量: {}\".format(v))\n",
    "print(\"归一化后的向量: {}\".format(normalized_v))"
   ]
  },
  {
   "cell_type": "code",
   "execution_count": 20,
   "metadata": {},
   "outputs": [
    {
     "name": "stdout",
     "output_type": "stream",
     "text": [
      "向量1: [1 0 1 0]\n",
      "向量2: [0.7151 0.     0.5054 0.4829]\n",
      "向量1和向量2夹角的余弦值: 0.8630\n"
     ]
    }
   ],
   "source": [
    "import numpy as np\n",
    "\n",
    "def cosangle(v1, v2):\n",
    "    cos = np.dot(v1, v2) / (np.linalg.norm(v1) * np.linalg.norm(v2))\n",
    "    return cos\n",
    "\n",
    "# 示例向量\n",
    "v1 = np.array([1, 0, 1, 0])\n",
    "v2 = np.array([0.7151, 0, 0.5054, 0.4829])\n",
    "\n",
    "# 计算余弦值\n",
    "cosine = cosangle(v1, v2)\n",
    "\n",
    "print(\"向量1: {}\".format(v1))\n",
    "print(\"向量2: {}\".format(v2))\n",
    "print(\"向量1和向量2夹角的余弦值: {:.4f}\".format(cosine))"
   ]
  },
  {
   "cell_type": "markdown",
   "metadata": {},
   "source": [
    "# OJ 4"
   ]
  },
  {
   "cell_type": "code",
   "execution_count": null,
   "metadata": {},
   "outputs": [],
   "source": [
    "def kmp(s, t):\n",
    "    next_list = get_next(t)\n",
    "    match_pos = []\n",
    "    i, j = 0, 0\n",
    "    while i < len(s):\n",
    "        if s[i] == t[j]:\n",
    "            i += 1\n",
    "            j += 1\n",
    "        else:\n",
    "            j = next_list[j]\n",
    "            if j == -1:\n",
    "                i += 1\n",
    "                j = 0\n",
    "        if j == len(t):\n",
    "            match_pos.append(i - len(t))\n",
    "            j = next_list[j-1]\n",
    "    return match_pos\n",
    "\n",
    "\n",
    "def get_next(t):\n",
    "    next_list = [-1] * len(t)\n",
    "    i, j = -1, 0\n",
    "    while j < len(t) - 1:\n",
    "        if i == -1 or t[i] == t[j]:\n",
    "            i += 1\n",
    "            j += 1\n",
    "            next_list[j] = i\n",
    "        else:\n",
    "            i = next_list[i]\n",
    "    return next_list\n",
    "\n",
    "\n",
    "s_len, t_len = map(int, input().split())\n",
    "s = input()\n",
    "t = input()\n",
    "\n",
    "positions = kmp(s, t)\n",
    "num_matches = len(positions)\n",
    "print(num_matches)\n",
    "print(*positions)"
   ]
  },
  {
   "cell_type": "markdown",
   "metadata": {},
   "source": []
  }
 ],
 "metadata": {
  "kernelspec": {
   "display_name": "base",
   "language": "python",
   "name": "python3"
  },
  "language_info": {
   "codemirror_mode": {
    "name": "ipython",
    "version": 3
   },
   "file_extension": ".py",
   "mimetype": "text/x-python",
   "name": "python",
   "nbconvert_exporter": "python",
   "pygments_lexer": "ipython3",
   "version": "3.11.3"
  }
 },
 "nbformat": 4,
 "nbformat_minor": 2
}
