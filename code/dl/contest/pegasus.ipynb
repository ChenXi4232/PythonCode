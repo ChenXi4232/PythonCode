{
 "cells": [
  {
   "cell_type": "code",
   "execution_count": 2,
   "metadata": {},
   "outputs": [],
   "source": [
    "import pandas as pd\n",
    "import torch\n",
    "from torch.utils.data import Dataset, random_split, DataLoader\n",
    "from transformers import PegasusTokenizer, PegasusForConditionalGeneration\n",
    "from rouge_score import rouge_scorer\n",
    "import csv\n",
    "import numpy as np\n",
    "from tqdm.notebook import tqdm\n",
    "import optuna\n",
    "\n",
    "\n",
    "seed = 42\n",
    "np.random.seed(seed)\n",
    "torch.manual_seed(seed)\n",
    "torch.cuda.manual_seed(seed)\n",
    "torch.cuda.manual_seed_all(seed)\n",
    "torch.backends.cudnn.deterministic = True\n",
    "torch.backends.cudnn.benchmark = False\n",
    "device = torch.device(\"cuda\" if torch.cuda.is_available() else \"cpu\")"
   ]
  },
  {
   "cell_type": "code",
   "execution_count": 3,
   "metadata": {},
   "outputs": [
    {
     "name": "stderr",
     "output_type": "stream",
     "text": [
      "Some weights of PegasusForConditionalGeneration were not initialized from the model checkpoint at google/pegasus-cnn_dailymail and are newly initialized: ['model.decoder.embed_positions.weight', 'model.encoder.embed_positions.weight']\n",
      "You should probably TRAIN this model on a down-stream task to be able to use it for predictions and inference.\n"
     ]
    },
    {
     "data": {
      "text/plain": [
       "PegasusForConditionalGeneration(\n",
       "  (model): PegasusModel(\n",
       "    (shared): Embedding(96103, 1024, padding_idx=0)\n",
       "    (encoder): PegasusEncoder(\n",
       "      (embed_tokens): Embedding(96103, 1024, padding_idx=0)\n",
       "      (embed_positions): PegasusSinusoidalPositionalEmbedding(1024, 1024)\n",
       "      (layers): ModuleList(\n",
       "        (0-15): 16 x PegasusEncoderLayer(\n",
       "          (self_attn): PegasusAttention(\n",
       "            (k_proj): Linear(in_features=1024, out_features=1024, bias=True)\n",
       "            (v_proj): Linear(in_features=1024, out_features=1024, bias=True)\n",
       "            (q_proj): Linear(in_features=1024, out_features=1024, bias=True)\n",
       "            (out_proj): Linear(in_features=1024, out_features=1024, bias=True)\n",
       "          )\n",
       "          (self_attn_layer_norm): LayerNorm((1024,), eps=1e-05, elementwise_affine=True)\n",
       "          (activation_fn): ReLU()\n",
       "          (fc1): Linear(in_features=1024, out_features=4096, bias=True)\n",
       "          (fc2): Linear(in_features=4096, out_features=1024, bias=True)\n",
       "          (final_layer_norm): LayerNorm((1024,), eps=1e-05, elementwise_affine=True)\n",
       "        )\n",
       "      )\n",
       "      (layer_norm): LayerNorm((1024,), eps=1e-05, elementwise_affine=True)\n",
       "    )\n",
       "    (decoder): PegasusDecoder(\n",
       "      (embed_tokens): Embedding(96103, 1024, padding_idx=0)\n",
       "      (embed_positions): PegasusSinusoidalPositionalEmbedding(1024, 1024)\n",
       "      (layers): ModuleList(\n",
       "        (0-15): 16 x PegasusDecoderLayer(\n",
       "          (self_attn): PegasusAttention(\n",
       "            (k_proj): Linear(in_features=1024, out_features=1024, bias=True)\n",
       "            (v_proj): Linear(in_features=1024, out_features=1024, bias=True)\n",
       "            (q_proj): Linear(in_features=1024, out_features=1024, bias=True)\n",
       "            (out_proj): Linear(in_features=1024, out_features=1024, bias=True)\n",
       "          )\n",
       "          (activation_fn): ReLU()\n",
       "          (self_attn_layer_norm): LayerNorm((1024,), eps=1e-05, elementwise_affine=True)\n",
       "          (encoder_attn): PegasusAttention(\n",
       "            (k_proj): Linear(in_features=1024, out_features=1024, bias=True)\n",
       "            (v_proj): Linear(in_features=1024, out_features=1024, bias=True)\n",
       "            (q_proj): Linear(in_features=1024, out_features=1024, bias=True)\n",
       "            (out_proj): Linear(in_features=1024, out_features=1024, bias=True)\n",
       "          )\n",
       "          (encoder_attn_layer_norm): LayerNorm((1024,), eps=1e-05, elementwise_affine=True)\n",
       "          (fc1): Linear(in_features=1024, out_features=4096, bias=True)\n",
       "          (fc2): Linear(in_features=4096, out_features=1024, bias=True)\n",
       "          (final_layer_norm): LayerNorm((1024,), eps=1e-05, elementwise_affine=True)\n",
       "        )\n",
       "      )\n",
       "      (layer_norm): LayerNorm((1024,), eps=1e-05, elementwise_affine=True)\n",
       "    )\n",
       "  )\n",
       "  (lm_head): Linear(in_features=1024, out_features=96103, bias=False)\n",
       ")"
      ]
     },
     "execution_count": 3,
     "metadata": {},
     "output_type": "execute_result"
    }
   ],
   "source": [
    "tokenizer = PegasusTokenizer.from_pretrained(\n",
    "    \"google/pegasus-cnn_dailymail\")\n",
    "model = PegasusForConditionalGeneration.from_pretrained(\n",
    "    \"google/pegasus-cnn_dailymail\")\n",
    "model.to(device)"
   ]
  },
  {
   "cell_type": "code",
   "execution_count": 4,
   "metadata": {},
   "outputs": [],
   "source": [
    "INPUTS_MAX_LENGTH = 1024\n",
    "LABELS_MAX_LENGTH = 128\n",
    "LEARNING_RATE = 1e-4\n",
    "NUM_EPOCHS = 2\n",
    "\n",
    "optimizer = torch.optim.AdamW(model.parameters(), lr=LEARNING_RATE)\n",
    "\n",
    "class MyDataset(Dataset):\n",
    "    def __init__(self, df):\n",
    "        self.df = df\n",
    "\n",
    "    def __len__(self):\n",
    "        return len(self.df)\n",
    "\n",
    "    def __getitem__(self, idx):\n",
    "        row = self.df.iloc[idx]\n",
    "        news = \"summarize: \" + row[1]\n",
    "        inputs = tokenizer(news, return_tensors=\"pt\", truncation=True,\n",
    "                           padding=\"max_length\", max_length=INPUTS_MAX_LENGTH)\n",
    "        input_ids, attention_mask = inputs['input_ids'].squeeze(\n",
    "        ), inputs['attention_mask'].squeeze()\n",
    "        if len(row) == 3:\n",
    "            summary = row[2]\n",
    "            labels = tokenizer(summary, return_tensors=\"pt\", truncation=True,\n",
    "                               padding=\"max_length\", max_length=LABELS_MAX_LENGTH)\n",
    "            labels = labels['input_ids'].squeeze()\n",
    "            labels[labels == tokenizer.pad_token_id] = -100\n",
    "            return input_ids, attention_mask, labels\n",
    "        else:\n",
    "            return input_ids, attention_mask"
   ]
  },
  {
   "cell_type": "code",
   "execution_count": 23,
   "metadata": {},
   "outputs": [
    {
     "name": "stdout",
     "output_type": "stream",
     "text": [
      "0\n",
      " star ` devastated and grief-stricken ' over sudden loss of his eldest child .   sage played the 66-year-old 's onscreen son in rocky v .   an autopsy is scheduled to take place in the next 48 hours after filmmaker was found next to prescription drugs . \n"
     ]
    }
   ],
   "source": [
    "BATCH_SIZE = 2\n",
    "\n",
    "\n",
    "train_val_df = pd.read_csv(\"train_dataset.csv\", delimiter=\"\\t\", header=None)\n",
    "test_df = pd.read_csv(\"test_dataset.csv\", delimiter=\"\\t\", header=None)\n",
    "print(train_val_df.isnull().to_numpy().sum())\n",
    "print(train_val_df[2][1])"
   ]
  },
  {
   "cell_type": "code",
   "execution_count": null,
   "metadata": {},
   "outputs": [],
   "source": [
    "\n",
    "train_val_dataset = MyDataset(train_val_df)\n",
    "test_dataset = MyDataset(test_df)\n",
    "train_dataset, val_dataset = random_split(train_val_dataset, [0.9, 0.1])\n",
    "train_dataloader = DataLoader(\n",
    "    train_dataset, batch_size=BATCH_SIZE, shuffle=True)\n",
    "val_dataloader = DataLoader(\n",
    "    val_dataset, batch_size=BATCH_SIZE, shuffle=False)\n",
    "test_dataloader = DataLoader(\n",
    "    test_dataset, batch_size=BATCH_SIZE, shuffle=False)"
   ]
  },
  {
   "cell_type": "code",
   "execution_count": 5,
   "metadata": {},
   "outputs": [],
   "source": [
    "def compute_rouge_l(preds, labels):\n",
    "    scorer = rouge_scorer.RougeScorer(['rougeL'], use_stemmer=True)\n",
    "    precision_scores = []\n",
    "    recall_scores = []\n",
    "    fmeasure_scores = []\n",
    "\n",
    "    for pred, label in zip(preds, labels):\n",
    "        score = scorer.score(pred, label)['rougeL']\n",
    "        precision_scores.append(score.precision)\n",
    "        recall_scores.append(score.recall)\n",
    "        fmeasure_scores.append(score.fmeasure)\n",
    "\n",
    "    rouge_l_p = sum(precision_scores) / len(precision_scores)\n",
    "    rouge_l_r = sum(recall_scores) / len(recall_scores)\n",
    "    rouge_l_f = sum(fmeasure_scores) / len(fmeasure_scores)\n",
    "\n",
    "    return rouge_l_p, rouge_l_r, rouge_l_f"
   ]
  },
  {
   "cell_type": "code",
   "execution_count": 6,
   "metadata": {},
   "outputs": [],
   "source": [
    "def train(model, train_dataloader, val_dataloader, optimizer, device, NUM_EPOCHS):\n",
    "    for epoch in tqdm(range(NUM_EPOCHS)):\n",
    "        model.train()\n",
    "        train_loss = 0\n",
    "        i = 0\n",
    "        PRINT_INTERVAL = len(train_dataloader) // 10\n",
    "        for input_ids, attention_mask, labels in tqdm(train_dataloader, leave=bool(epoch == NUM_EPOCHS - 1)):\n",
    "            input_ids, attention_mask, labels = input_ids.to(\n",
    "                device), attention_mask.to(device), labels.to(device)\n",
    "            optimizer.zero_grad()\n",
    "            outputs = model(input_ids=input_ids,\n",
    "                            attention_mask=attention_mask, labels=labels)\n",
    "            loss = outputs.loss\n",
    "            loss.backward()\n",
    "            optimizer.step()\n",
    "            train_loss += loss.item()\n",
    "            i += 1\n",
    "\n",
    "            if i % PRINT_INTERVAL == 0:\n",
    "                print(f\"Epoch {epoch}/{i}, Loss: {loss.item()}\")\n",
    "\n",
    "        train_loss = train_loss / len(train_dataloader)\n",
    "        print(f\"Epoch {epoch}, Train Loss: {train_loss}\")\n",
    "\n",
    "        model.eval()\n",
    "        val_preds = []\n",
    "        val_labels = []\n",
    "        val_loss = 0\n",
    "        with torch.no_grad():\n",
    "            for input_ids, attention_mask, labels in tqdm(val_dataloader, leave=bool(epoch == NUM_EPOCHS - 1)):\n",
    "                input_ids, attention_mask, labels = input_ids.to(\n",
    "                    device), attention_mask.to(device), labels.to(device)\n",
    "                outputs = model(input_ids=input_ids,\n",
    "                                attention_mask=attention_mask, labels=labels)\n",
    "                loss = outputs.loss\n",
    "                val_loss += loss.item()\n",
    "\n",
    "                preds = model.generate(input_ids=input_ids,\n",
    "                                       attention_mask=attention_mask,\n",
    "                                       max_length=512,\n",
    "                                       length_penalty=2.0,\n",
    "                                       num_beams=4,\n",
    "                                       top_k=50,\n",
    "                                       top_p=0.95,\n",
    "                                       do_sample=False,\n",
    "                                       early_stopping=True,\n",
    "                                       repetition_penalty=2.5)\n",
    "                preds = [tokenizer.decode(\n",
    "                    pred, skip_special_tokens=True) for pred in preds]\n",
    "                labels[labels == -100] = tokenizer.pad_token_id\n",
    "                labels = [tokenizer.decode(\n",
    "                    label, skip_special_tokens=True) for label in labels]\n",
    "\n",
    "                val_preds.extend(preds)\n",
    "                val_labels.extend(labels)\n",
    "\n",
    "        val_loss = val_loss / len(val_dataloader)\n",
    "        rouge_l_p, rouge_l_r, rouge_l_f = compute_rouge_l(\n",
    "            val_preds, val_labels)\n",
    "        print(\n",
    "            f\"Epoch {epoch}, Validation Loss: {val_loss}, ROUGE-L P: {rouge_l_p}, R: {rouge_l_r}, F: {rouge_l_f}\")\n",
    "\n",
    "\n",
    "def test(model, test_dataloader):\n",
    "    model.eval()\n",
    "    test_preds = []\n",
    "    with torch.no_grad():\n",
    "        for input_ids, attention_mask in tqdm(test_dataloader):\n",
    "            input_ids, attention_mask = input_ids.to(\n",
    "                device), attention_mask.to(device)\n",
    "            preds = model.generate(input_ids=input_ids,\n",
    "                                   attention_mask=attention_mask,\n",
    "                                   max_length=512,\n",
    "                                   length_penalty=2.0,\n",
    "                                   num_beams=4,\n",
    "                                   top_k=50,\n",
    "                                   top_p=0.95,\n",
    "                                   do_sample=False,\n",
    "                                   early_stopping=True,\n",
    "                                   repetition_penalty=2.5)\n",
    "            preds = [tokenizer.decode(\n",
    "                pred, skip_special_tokens=True, clean_up_tokenization_spaces=True) for pred in preds]\n",
    "            test_preds.extend(preds)\n",
    "\n",
    "    print(test_preds[0])\n",
    "    print(len(test_preds))\n",
    "    return test_preds"
   ]
  },
  {
   "cell_type": "code",
   "execution_count": 7,
   "metadata": {},
   "outputs": [
    {
     "data": {
      "application/vnd.jupyter.widget-view+json": {
       "model_id": "852893150ff04c0bb791b441c9329149",
       "version_major": 2,
       "version_minor": 0
      },
      "text/plain": [
       "  0%|          | 0/2 [00:00<?, ?it/s]"
      ]
     },
     "metadata": {},
     "output_type": "display_data"
    },
    {
     "data": {
      "application/vnd.jupyter.widget-view+json": {
       "model_id": "fe3405af7b4d4817a65e33203812207a",
       "version_major": 2,
       "version_minor": 0
      },
      "text/plain": [
       "  0%|          | 0/4050 [00:00<?, ?it/s]"
      ]
     },
     "metadata": {},
     "output_type": "display_data"
    },
    {
     "ename": "KeyboardInterrupt",
     "evalue": "",
     "output_type": "error",
     "traceback": [
      "\u001b[1;31m---------------------------------------------------------------------------\u001b[0m",
      "\u001b[1;31mKeyboardInterrupt\u001b[0m                         Traceback (most recent call last)",
      "Cell \u001b[1;32mIn[7], line 1\u001b[0m\n\u001b[1;32m----> 1\u001b[0m \u001b[43mtrain\u001b[49m\u001b[43m(\u001b[49m\u001b[43mmodel\u001b[49m\u001b[43m,\u001b[49m\u001b[43m \u001b[49m\u001b[43mtrain_dataloader\u001b[49m\u001b[43m,\u001b[49m\u001b[43m \u001b[49m\u001b[43mval_dataloader\u001b[49m\u001b[43m,\u001b[49m\n\u001b[0;32m      2\u001b[0m \u001b[43m        \u001b[49m\u001b[43moptimizer\u001b[49m\u001b[43m,\u001b[49m\u001b[43m \u001b[49m\u001b[43mdevice\u001b[49m\u001b[43m,\u001b[49m\u001b[43m \u001b[49m\u001b[43mNUM_EPOCHS\u001b[49m\u001b[43m)\u001b[49m\n\u001b[0;32m      3\u001b[0m test_preds \u001b[38;5;241m=\u001b[39m test(model, test_dataloader)\n\u001b[0;32m      5\u001b[0m \u001b[38;5;28;01mwith\u001b[39;00m \u001b[38;5;28mopen\u001b[39m(\u001b[38;5;124m\"\u001b[39m\u001b[38;5;124mresult_wc_0.csv\u001b[39m\u001b[38;5;124m\"\u001b[39m, mode\u001b[38;5;241m=\u001b[39m\u001b[38;5;124m'\u001b[39m\u001b[38;5;124mw\u001b[39m\u001b[38;5;124m'\u001b[39m, newline\u001b[38;5;241m=\u001b[39m\u001b[38;5;124m'\u001b[39m\u001b[38;5;124m'\u001b[39m, encoding\u001b[38;5;241m=\u001b[39m\u001b[38;5;124m'\u001b[39m\u001b[38;5;124mutf-8\u001b[39m\u001b[38;5;124m'\u001b[39m) \u001b[38;5;28;01mas\u001b[39;00m file:\n",
      "Cell \u001b[1;32mIn[6], line 16\u001b[0m, in \u001b[0;36mtrain\u001b[1;34m(model, train_dataloader, val_dataloader, optimizer, device, NUM_EPOCHS)\u001b[0m\n\u001b[0;32m     14\u001b[0m loss\u001b[38;5;241m.\u001b[39mbackward()\n\u001b[0;32m     15\u001b[0m optimizer\u001b[38;5;241m.\u001b[39mstep()\n\u001b[1;32m---> 16\u001b[0m train_loss \u001b[38;5;241m+\u001b[39m\u001b[38;5;241m=\u001b[39m \u001b[43mloss\u001b[49m\u001b[38;5;241;43m.\u001b[39;49m\u001b[43mitem\u001b[49m\u001b[43m(\u001b[49m\u001b[43m)\u001b[49m\n\u001b[0;32m     17\u001b[0m i \u001b[38;5;241m+\u001b[39m\u001b[38;5;241m=\u001b[39m \u001b[38;5;241m1\u001b[39m\n\u001b[0;32m     19\u001b[0m \u001b[38;5;28;01mif\u001b[39;00m i \u001b[38;5;241m%\u001b[39m PRINT_INTERVAL \u001b[38;5;241m==\u001b[39m \u001b[38;5;241m0\u001b[39m:\n",
      "\u001b[1;31mKeyboardInterrupt\u001b[0m: "
     ]
    }
   ],
   "source": [
    "train(model, train_dataloader, val_dataloader,\n",
    "        optimizer, device, NUM_EPOCHS)\n",
    "test_preds = test(model, test_dataloader)\n",
    "\n",
    "with open(\"result_wc_0.csv\", mode='w', newline='', encoding='utf-8') as file:\n",
    "    writer = csv.writer(file, delimiter='\\t')\n",
    "\n",
    "    for index, pred in enumerate(test_preds):\n",
    "        writer.writerow([index, pred])"
   ]
  }
 ],
 "metadata": {
  "kernelspec": {
   "display_name": "2.2.1_11.8",
   "language": "python",
   "name": "python3"
  },
  "language_info": {
   "codemirror_mode": {
    "name": "ipython",
    "version": 3
   },
   "file_extension": ".py",
   "mimetype": "text/x-python",
   "name": "python",
   "nbconvert_exporter": "python",
   "pygments_lexer": "ipython3",
   "version": "3.11.8"
  }
 },
 "nbformat": 4,
 "nbformat_minor": 2
}
